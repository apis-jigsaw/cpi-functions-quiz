{
 "cells": [
  {
   "cell_type": "markdown",
   "metadata": {},
   "source": [
    "# Python Functions Review"
   ]
  },
  {
   "cell_type": "markdown",
   "metadata": {},
   "source": [
    "### Introduction"
   ]
  },
  {
   "cell_type": "markdown",
   "metadata": {},
   "source": [
    "In this lesson, we'll review working with Python APIs and functions.  Let's get started."
   ]
  },
  {
   "cell_type": "markdown",
   "metadata": {},
   "source": [
    "### Getting our Data"
   ]
  },
  {
   "cell_type": "markdown",
   "metadata": {},
   "source": [
    "In this lesson, we'll work with the [Econdb api](https://www.econdb.com/api/series/?page=1).  As you can see on the page, we can make a request to the api with something like the following."
   ]
  },
  {
   "cell_type": "code",
   "execution_count": 62,
   "metadata": {},
   "outputs": [],
   "source": [
    "import requests\n",
    "\n",
    "url = \"https://www.econdb.com/api/series/CPIUS/?format=json\"\n",
    "response = requests.get(url)\n",
    "json_values = response.json()"
   ]
  },
  {
   "cell_type": "markdown",
   "metadata": {},
   "source": [
    "> If the above line did not work because you have not installed the requests library, you can install by uncommenting and running the following:"
   ]
  },
  {
   "cell_type": "code",
   "execution_count": 61,
   "metadata": {},
   "outputs": [],
   "source": [
    "# !pip3 install requests"
   ]
  },
  {
   "cell_type": "markdown",
   "metadata": {},
   "source": [
    "### Working with our data"
   ]
  },
  {
   "cell_type": "markdown",
   "metadata": {},
   "source": [
    "Begin by identifying all of the keys in `json_values`."
   ]
  },
  {
   "cell_type": "code",
   "execution_count": 63,
   "metadata": {},
   "outputs": [
    {
     "data": {
      "text/plain": [
       "dict_keys(['ticker', 'description', 'geography', 'frequency', 'dataset', 'units', 'additional_metadata', 'data'])"
      ]
     },
     "execution_count": 63,
     "metadata": {},
     "output_type": "execute_result"
    }
   ],
   "source": [
    "json_values.keys()\n",
    "\n",
    "# dict_keys(['ticker', 'description', 'geography', \n",
    "# 'frequency', 'dataset', 'units', 'additional_metadata', 'data'])"
   ]
  },
  {
   "cell_type": "markdown",
   "metadata": {},
   "source": [
    "And also identify all of the keys in under the `data` attribute."
   ]
  },
  {
   "cell_type": "code",
   "execution_count": 3,
   "metadata": {},
   "outputs": [
    {
     "data": {
      "text/plain": [
       "dict_keys(['values', 'dates', 'status'])"
      ]
     },
     "execution_count": 3,
     "metadata": {},
     "output_type": "execute_result"
    }
   ],
   "source": [
    "json_values['data'].keys()\n",
    "\n",
    "# dict_keys(['values', 'dates', 'status'])"
   ]
  },
  {
   "cell_type": "markdown",
   "metadata": {},
   "source": [
    "Ok, so we can see that we have keys of `values` and `dates`."
   ]
  },
  {
   "cell_type": "markdown",
   "metadata": {},
   "source": [
    "So now create a list of the most recent 300 dates -- from earliest to latest."
   ]
  },
  {
   "cell_type": "code",
   "execution_count": 65,
   "metadata": {},
   "outputs": [],
   "source": [
    "recent_dates = json_values['data']['dates'][-300:]\n",
    "recent_dates[:5]\n",
    "\n",
    "# ['1997-08-01', '1997-09-01', '1997-10-01', '1997-11-01', '1997-12-01']"
   ]
  },
  {
   "cell_type": "markdown",
   "metadata": {},
   "source": [
    "And create a list of the corresponding consumer price index values."
   ]
  },
  {
   "cell_type": "code",
   "execution_count": 5,
   "metadata": {},
   "outputs": [
    {
     "data": {
      "text/plain": [
       "[161.2, 161.5, 161.7, 161.8, 162.0]"
      ]
     },
     "execution_count": 5,
     "metadata": {},
     "output_type": "execute_result"
    }
   ],
   "source": [
    "recent_values = json_values['data']['values'][-300:]\n",
    "recent_values[:5]"
   ]
  },
  {
   "cell_type": "markdown",
   "metadata": {},
   "source": [
    "Now create a list of tuples called `cpis` that uses the `recent_dates` and `recent_values` lists above to return a list of tuples consisting of the date and the corresponding consumer price index."
   ]
  },
  {
   "cell_type": "code",
   "execution_count": 6,
   "metadata": {},
   "outputs": [
    {
     "data": {
      "text/plain": [
       "[('1997-09-01', 161.2),\n",
       " ('1997-10-01', 161.5),\n",
       " ('1997-11-01', 161.7),\n",
       " ('1997-12-01', 161.8),\n",
       " ('1998-01-01', 162.0)]"
      ]
     },
     "execution_count": 6,
     "metadata": {},
     "output_type": "execute_result"
    }
   ],
   "source": [
    "cpis = list(zip(recent_dates, recent_values))\n",
    "\n",
    "cpis[:5]\n",
    "\n",
    "# [('1997-08-01', 160.8),\n",
    "#  ('1997-09-01', 161.2),\n",
    "#  ('1997-10-01', 161.5),\n",
    "#  ('1997-11-01', 161.7),\n",
    "#  ('1997-12-01', 161.8)]"
   ]
  },
  {
   "cell_type": "markdown",
   "metadata": {},
   "source": [
    "And then, turn this list of tuples into a list of dictionaries with keys of date and price."
   ]
  },
  {
   "cell_type": "markdown",
   "metadata": {},
   "source": [
    "> If you are unable to complete the below step, you can skip the problem and proceed to the next section."
   ]
  },
  {
   "cell_type": "code",
   "execution_count": 9,
   "metadata": {},
   "outputs": [],
   "source": [
    "price_json = [dict(zip(['date', 'price'], cpi))for cpi in cpis]\n",
    "\n",
    "price_json[:5]\n",
    "\n",
    "# [{'date': '1997-09-01', 'price': 161.2},\n",
    "#  {'date': '1997-10-01', 'price': 161.5},\n",
    "#  {'date': '1997-11-01', 'price': 161.7},\n",
    "#  {'date': '1997-12-01', 'price': 161.8},\n",
    "#  {'date': '1998-01-01', 'price': 162.0}]"
   ]
  },
  {
   "cell_type": "markdown",
   "metadata": {},
   "source": [
    "### Working with Data"
   ]
  },
  {
   "cell_type": "markdown",
   "metadata": {},
   "source": [
    "Ok, so in case you were not able to complete the probems above, we'll load in our list of dictionaries of prices and dates below."
   ]
  },
  {
   "cell_type": "code",
   "execution_count": 66,
   "metadata": {},
   "outputs": [
    {
     "data": {
      "text/plain": [
       "[{'date': Timestamp('1997-09-01 00:00:00'), 'price': 161.2},\n",
       " {'date': Timestamp('1997-10-01 00:00:00'), 'price': 161.5},\n",
       " {'date': Timestamp('1997-11-01 00:00:00'), 'price': 161.7}]"
      ]
     },
     "execution_count": 66,
     "metadata": {},
     "output_type": "execute_result"
    }
   ],
   "source": [
    "import pandas as pd\n",
    "\n",
    "price_dates = pd.read_json('./cpi_json.json').to_dict('records')\n",
    "\n",
    "price_dates[:3]"
   ]
  },
  {
   "cell_type": "markdown",
   "metadata": {},
   "source": [
    "Ok, so now write a function that given our list of dictionaries and a price, only returns those dictionaries whose price exceeds that amount."
   ]
  },
  {
   "cell_type": "markdown",
   "metadata": {},
   "source": [
    "* Filtering"
   ]
  },
  {
   "cell_type": "code",
   "execution_count": 32,
   "metadata": {},
   "outputs": [],
   "source": [
    "def price_greater_than(price_dates, amount):\n",
    "    return [price_date for price_date in price_dates if price_date['price'] > amount]"
   ]
  },
  {
   "cell_type": "code",
   "execution_count": 33,
   "metadata": {},
   "outputs": [
    {
     "data": {
      "text/plain": [
       "[{'date': Timestamp('2006-04-01 00:00:00'), 'price': 200.7},\n",
       " {'date': Timestamp('2006-05-01 00:00:00'), 'price': 201.3},\n",
       " {'date': Timestamp('2006-06-01 00:00:00'), 'price': 201.8}]"
      ]
     },
     "execution_count": 33,
     "metadata": {},
     "output_type": "execute_result"
    }
   ],
   "source": [
    "price_greater_than(price_dates, 200)[:3]"
   ]
  },
  {
   "cell_type": "markdown",
   "metadata": {},
   "source": [
    "* Exploring Timestamps  "
   ]
  },
  {
   "cell_type": "markdown",
   "metadata": {},
   "source": [
    "Now we can see that each date points to a timestamp object.  If we explore a timestamp, notice that we can extract certain attributes from it.\n",
    "\n",
    "> Let's start by pulling out the first date."
   ]
  },
  {
   "cell_type": "code",
   "execution_count": 36,
   "metadata": {},
   "outputs": [
    {
     "data": {
      "text/plain": [
       "Timestamp('1997-09-01 00:00:00')"
      ]
     },
     "execution_count": 36,
     "metadata": {},
     "output_type": "execute_result"
    }
   ],
   "source": [
    "first_price_date = price_dates[0]\n",
    "\n",
    "first_price_date # {'date': Timestamp('1997-09-01 00:00:00'), 'price': 161.2}\n",
    "\n",
    "first_date = first_price_date['date']\n",
    "first_date"
   ]
  },
  {
   "cell_type": "markdown",
   "metadata": {},
   "source": [
    "For example, this is how we find the price from a timestamp."
   ]
  },
  {
   "cell_type": "code",
   "execution_count": 37,
   "metadata": {},
   "outputs": [
    {
     "data": {
      "text/plain": [
       "1997"
      ]
     },
     "execution_count": 37,
     "metadata": {},
     "output_type": "execute_result"
    }
   ],
   "source": [
    "first_date.year"
   ]
  },
  {
   "cell_type": "markdown",
   "metadata": {},
   "source": [
    "Now, write a function called `filter_price_dates_by` that takes list of `price_dates` and given both a month and year, return the corresponding price.\n",
    "\n",
    "> You can see how it works by looking at how we call the function below."
   ]
  },
  {
   "cell_type": "code",
   "execution_count": 67,
   "metadata": {},
   "outputs": [],
   "source": [
    "def filter_price_by(price_dates, month, year):\n",
    "    prices = [price_date['price'] for price_date in price_dates if price_date['date'].month == month and price_date['date'].year == year] \n",
    "    if prices:\n",
    "        return prices[0]"
   ]
  },
  {
   "cell_type": "code",
   "execution_count": 46,
   "metadata": {},
   "outputs": [
    {
     "data": {
      "text/plain": [
       "258.2"
      ]
     },
     "execution_count": 46,
     "metadata": {},
     "output_type": "execute_result"
    }
   ],
   "source": [
    "filter_price_by(price_dates, 3, 2020)\n",
    "\n",
    "# 258.2"
   ]
  },
  {
   "cell_type": "markdown",
   "metadata": {},
   "source": [
    "Then let's write a method that allows us to filter by both prices and years.  So provided a price and a year, it only returns the corresponding dictionaries for that year that exceeded the specified price."
   ]
  },
  {
   "cell_type": "code",
   "execution_count": 47,
   "metadata": {},
   "outputs": [],
   "source": [
    "def filter_price_by(amount, year):\n",
    "    return [price_date for price_date in price_dates if (price_date['price'] > amount and price_date['date'].year > year)]"
   ]
  },
  {
   "cell_type": "code",
   "execution_count": 58,
   "metadata": {},
   "outputs": [
    {
     "data": {
      "text/plain": [
       "[{'date': Timestamp('2022-05-01 00:00:00'), 'price': 291.5},\n",
       " {'date': Timestamp('2022-06-01 00:00:00'), 'price': 295.3},\n",
       " {'date': Timestamp('2022-07-01 00:00:00'), 'price': 295.3},\n",
       " {'date': Timestamp('2022-08-01 00:00:00'), 'price': 295.6}]"
      ]
     },
     "execution_count": 58,
     "metadata": {},
     "output_type": "execute_result"
    }
   ],
   "source": [
    "filter_price_by(290, 1970)\n",
    "\n",
    "# [{'date': Timestamp('2022-05-01 00:00:00'), 'price': 291.5},\n",
    "#  {'date': Timestamp('2022-06-01 00:00:00'), 'price': 295.3},\n",
    "#  {'date': Timestamp('2022-07-01 00:00:00'), 'price': 295.3},\n",
    "#  {'date': Timestamp('2022-08-01 00:00:00'), 'price': 295.6}]"
   ]
  },
  {
   "cell_type": "markdown",
   "metadata": {},
   "source": [
    "Finally,s create a new list of dictionaries so that each dictionary has a key of `year`, a key of `month`, as well as the corresponding price."
   ]
  },
  {
   "cell_type": "code",
   "execution_count": 40,
   "metadata": {},
   "outputs": [
    {
     "data": {
      "text/plain": [
       "[{'month': 9, 'year': 1997, 'price': 161.2},\n",
       " {'month': 10, 'year': 1997, 'price': 161.5},\n",
       " {'month': 11, 'year': 1997, 'price': 161.7}]"
      ]
     },
     "execution_count": 40,
     "metadata": {},
     "output_type": "execute_result"
    }
   ],
   "source": [
    "expanded_price_dates = [{'month': price_date['date'].month, 'year': price_date['date'].year, 'price': price_date['price']} for price_date in price_dates]\n",
    "\n",
    "expanded_price_dates[:3]\n",
    "\n",
    "# [{'month': 9, 'year': 1997, 'price': 161.2},\n",
    "#  {'month': 10, 'year': 1997, 'price': 161.5},\n",
    "#  {'month': 11, 'year': 1997, 'price': 161.7}]"
   ]
  }
 ],
 "metadata": {
  "kernelspec": {
   "display_name": "Python 3.8.9 64-bit",
   "language": "python",
   "name": "python3"
  },
  "language_info": {
   "codemirror_mode": {
    "name": "ipython",
    "version": 3
   },
   "file_extension": ".py",
   "mimetype": "text/x-python",
   "name": "python",
   "nbconvert_exporter": "python",
   "pygments_lexer": "ipython3",
   "version": "3.8.9"
  },
  "orig_nbformat": 4,
  "vscode": {
   "interpreter": {
    "hash": "31f2aee4e71d21fbe5cf8b01ff0e069b9275f58929596ceb00d14d90e3e16cd6"
   }
  }
 },
 "nbformat": 4,
 "nbformat_minor": 2
}
